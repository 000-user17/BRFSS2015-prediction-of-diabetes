{
 "cells": [
  {
   "cell_type": "code",
   "execution_count": 2,
   "metadata": {},
   "outputs": [
    {
     "name": "stdout",
     "output_type": "stream",
     "text": [
      "每个类别数量: Counter({0.0: 213703, 2.0: 35346, 1.0: 4631})\n",
      "每个类别数量: Counter({0.0: 4631, 1.0: 4631, 2.0: 4631})\n"
     ]
    }
   ],
   "source": [
    "'''欠采样'''\n",
    "import pandas as pd\n",
    "from collections import Counter\n",
    "from imblearn.under_sampling import RandomUnderSampler\n",
    "\n",
    "# 读取数据\n",
    "data = pd.read_csv('data\\diabetes_012_health_indicators_BRFSS2015.csv')\n",
    "\n",
    "# 统计每个类别的样本数量\n",
    "counter = Counter(data.iloc[:, 0])\n",
    "\n",
    "print('每个类别数量:', counter)\n",
    "\n",
    "# 计算需要下采样到的样本数量\n",
    "target_count = counter.most_common()[-1][1]\n",
    "\n",
    "# 使用 RandomUnderSampler 进行下采样\n",
    "rus = RandomUnderSampler(sampling_strategy={k: target_count for k in counter.keys()})\n",
    "X_resampled, y_resampled = rus.fit_resample(data.iloc[:, 1:], data.iloc[:, 0])\n",
    "\n",
    "# 将下采样后的数据拼接为一个新的 DataFrame\n",
    "balanced_data = pd.concat([pd.DataFrame(y_resampled, columns=['Diabetes_012']), pd.DataFrame(X_resampled)], axis=1)\n",
    "\n",
    "# 将平衡的数据保存到文件\n",
    "balanced_data.to_csv('data/balanced_data012.csv', index=False)\n",
    "\n",
    "print('每个类别数量:', Counter(balanced_data['Diabetes_012']))"
   ]
  },
  {
   "cell_type": "code",
   "execution_count": 1,
   "metadata": {},
   "outputs": [
    {
     "name": "stdout",
     "output_type": "stream",
     "text": [
      "0.0    218334\n",
      "1.0     35346\n",
      "Name: Diabetes_binary, dtype: int64\n",
      "0.0    218334\n",
      "1.0    218334\n",
      "Name: Diabetes_binary, dtype: int64\n"
     ]
    }
   ],
   "source": [
    "'''过采样'''\n",
    "import pandas as pd\n",
    "\n",
    "df = pd.read_csv('./data/diabetes_binary_health_indicators_BRFSS2015.csv')\n",
    "labels_col = df.columns[0]\n",
    "counts = df[labels_col].value_counts()\n",
    "print(counts)\n",
    "from imblearn.over_sampling import RandomOverSampler\n",
    "\n",
    "ros = RandomOverSampler(random_state=0)\n",
    "X_resampled, y_resampled = ros.fit_resample(df.iloc[:, 1:], df[labels_col])\n",
    "\n",
    "df_resampled = pd.DataFrame(X_resampled, columns=df.columns[1:])\n",
    "df_resampled[labels_col] = y_resampled\n",
    "df_resampled.to_csv('./data/data_indicator_oversampled.csv', index=False)\n",
    "counts = df_resampled[labels_col].value_counts()\n",
    "print(counts)"
   ]
  }
 ],
 "metadata": {
  "kernelspec": {
   "display_name": "pytorch",
   "language": "python",
   "name": "python3"
  },
  "language_info": {
   "codemirror_mode": {
    "name": "ipython",
    "version": 3
   },
   "file_extension": ".py",
   "mimetype": "text/x-python",
   "name": "python",
   "nbconvert_exporter": "python",
   "pygments_lexer": "ipython3",
   "version": "3.7.11"
  },
  "orig_nbformat": 4
 },
 "nbformat": 4,
 "nbformat_minor": 2
}
