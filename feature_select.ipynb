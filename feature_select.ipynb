{
 "cells": [
  {
   "cell_type": "code",
   "execution_count": 14,
   "metadata": {},
   "outputs": [],
   "source": [
    "'''特征选择， chi'''\n",
    "import pandas as pd\n",
    "from sklearn.feature_selection import SelectPercentile\n",
    "from sklearn.feature_selection import chi2\n",
    "\n",
    "# 读入CSV文件\n",
    "df = pd.read_csv('./data/diabetes_binary_5050split_health_indicators_BRFSS2015.csv')\n",
    "# 将标签列单独分离\n",
    "labels = df.iloc[:, 0].values\n",
    "# 将特征列提取出来\n",
    "features = df.iloc[:, 1:].values\n",
    "\n",
    "# 创建特征选择器对象\n",
    "selector = SelectPercentile(score_func=chi2, percentile=50)\n",
    "# 使用选择器对象进行特征选择\n",
    "selected_features = selector.fit_transform(features, labels)\n",
    "# 获取每个特征是否被选择的布尔数组\n",
    "support = selector.get_support()\n",
    "\n",
    "# 将被选择的特征列提取出来\n",
    "selected_columns = df.columns[1:][support]\n",
    "selected_data = pd.DataFrame(selected_features, columns=selected_columns)\n",
    "\n",
    "# 将选择后的特征数据保存成CSV文件\n",
    "selected_data.to_csv('./data/data_feature_select_chi2.csv', index=False)"
   ]
  },
  {
   "cell_type": "code",
   "execution_count": 11,
   "metadata": {},
   "outputs": [],
   "source": [
    "'''f_classif特征选择'''\n",
    "import pandas as pd\n",
    "from sklearn.feature_selection import SelectPercentile, f_classif\n",
    "\n",
    "# 读取CSV文件\n",
    "df = pd.read_csv('./data/diabetes_binary_5050split_health_indicators_BRFSS2015.csv')\n",
    "\n",
    "# 把标签列和特征列分开\n",
    "y = df.iloc[:, 0]\n",
    "X = df.iloc[:, 1:]\n",
    "\n",
    "# 进行特征选择\n",
    "selector = SelectPercentile(score_func=f_classif, percentile=50)\n",
    "X_new = selector.fit_transform(X, y)\n",
    "\n",
    "# 获得被选择的特征列\n",
    "selected_columns = X.columns[selector.get_support()]\n",
    "\n",
    "# 将选择后的数据转换成DataFrame，并保存为CSV文件\n",
    "selected_df = pd.DataFrame(X_new, columns=selected_columns)\n",
    "selected_df.to_csv('./data/data_feature_select_f_classif.csv', index=False)"
   ]
  },
  {
   "cell_type": "code",
   "execution_count": 12,
   "metadata": {},
   "outputs": [
    {
     "name": "stdout",
     "output_type": "stream",
     "text": [
      "Index(['HighBP', 'HighChol', 'BMI', 'HeartDiseaseorAttack', 'GenHlth',\n",
      "       'PhysHlth', 'DiffWalk', 'Age', 'Education', 'Income'],\n",
      "      dtype='object')\n"
     ]
    }
   ],
   "source": [
    "'''pearson系数特征选择'''\n",
    "import pandas as pd\n",
    "from sklearn.feature_selection import SelectKBest, f_regression\n",
    "\n",
    "# 读取CSV文件\n",
    "df = pd.read_csv('./data/diabetes_binary_5050split_health_indicators_BRFSS2015.csv')\n",
    "\n",
    "# 把标签列和特征列分开\n",
    "y = df.iloc[:, 0]\n",
    "X = df.iloc[:, 1:]\n",
    "\n",
    "# 进行特征选择\n",
    "selector = SelectKBest(score_func=f_regression, k=10)\n",
    "X_new = selector.fit_transform(X, y)\n",
    "\n",
    "# 获得被选择的特征列\n",
    "selected_columns = X.columns[selector.get_support()]\n",
    "\n",
    "print(selected_columns)\n",
    "# 将选择后的数据转换成DataFrame，并保存为CSV文件\n",
    "selected_df = pd.DataFrame(X_new, columns=selected_columns)\n",
    "selected_df.to_csv('./data/data_feature_select_pearson.csv', index=False)"
   ]
  }
 ],
 "metadata": {
  "kernelspec": {
   "display_name": "torch1.4py3.7",
   "language": "python",
   "name": "python3"
  },
  "language_info": {
   "codemirror_mode": {
    "name": "ipython",
    "version": 3
   },
   "file_extension": ".py",
   "mimetype": "text/x-python",
   "name": "python",
   "nbconvert_exporter": "python",
   "pygments_lexer": "ipython3",
   "version": "3.7.11"
  },
  "orig_nbformat": 4
 },
 "nbformat": 4,
 "nbformat_minor": 2
}
