{
 "cells": [
  {
   "cell_type": "code",
   "execution_count": 1,
   "metadata": {},
   "outputs": [],
   "source": [
    "import os\n",
    "import pandas as pd\n",
    "import numpy as np\n",
    "import torch"
   ]
  },
  {
   "cell_type": "code",
   "execution_count": 2,
   "metadata": {},
   "outputs": [],
   "source": [
    "data_path = \"data/balanced_data012.csv\"\n",
    "df = pd.read_csv(data_path)"
   ]
  },
  {
   "cell_type": "code",
   "execution_count": null,
   "metadata": {},
   "outputs": [
    {
     "data": {
      "text/plain": [
       "2"
      ]
     },
     "execution_count": 28,
     "metadata": {},
     "output_type": "execute_result"
    }
   ],
   "source": [
    "label_num = 0\n",
    "label_set = []\n",
    "label_col = df.columns[0]\n",
    "for i in range(df.shape[0]):\n",
    "    #print(df['Diabetes_binary'][i])\n",
    "    label_set.append(df['Diabetes_binary'][i])\n",
    "label_num = len(set(label_set))\n",
    "label_num"
   ]
  },
  {
   "cell_type": "code",
   "execution_count": null,
   "metadata": {},
   "outputs": [],
   "source": [
    "import csv\n",
    "'''划分为训练集，验证集，测试集'''\n",
    "def huafen(df, train_num, valid_num, test_num):\n",
    "    train_data = []\n",
    "    train_data.append(df.columns.tolist())\n",
    "    valid_data = []\n",
    "    valid_data.append(df.columns.tolist())\n",
    "    test_data = []\n",
    "    test_data.append(df.columns.tolist())\n",
    "\n",
    "\n",
    "    # 将数据随机打乱\n",
    "    df = df.sample(frac=1)\n",
    "\n",
    "    for i in range(df.shape[0]):\n",
    "        if len(train_data) < train_num:\n",
    "            train_data.append(df.iloc[i].tolist())\n",
    "            \n",
    "        elif len(valid_data) < valid_num:\n",
    "            valid_data.append(df.iloc[i].tolist())\n",
    "            \n",
    "        elif len(test_data) < test_num:\n",
    "            test_data.append(df.iloc[i].tolist())\n",
    "\n",
    "\n",
    "    # 将list写入csv文件\n",
    "    with open('./data/train.csv', mode='w', newline='') as file:\n",
    "        writer = csv.writer(file)\n",
    "        for row in train_data:\n",
    "            writer.writerow(row)\n",
    "            \n",
    "    with open('./data/valid.csv', mode='w', newline='') as file:\n",
    "        writer = csv.writer(file)\n",
    "        for row in valid_data:\n",
    "            writer.writerow(row)\n",
    "    \n",
    "    with open('./data/test.csv', mode='w', newline='') as file:\n",
    "        writer = csv.writer(file)\n",
    "        for row in test_data:\n",
    "            writer.writerow(row)\n",
    "            \n",
    "data_num = df.shape[0]\n",
    "huafen(df, 0.7*data_num, 0.15*data_num, 0.15*data_num)"
   ]
  },
  {
   "cell_type": "code",
   "execution_count": null,
   "metadata": {},
   "outputs": [
    {
     "name": "stdout",
     "output_type": "stream",
     "text": [
      "训练集一共49484条\n",
      "验证集一共10603条\n",
      "测试集一共10603条\n"
     ]
    }
   ],
   "source": [
    "train_path = './data/train.csv'\n",
    "train_df = pd.read_csv(train_path)\n",
    "print(\"训练集一共\"+str(train_df.shape[0])+\"条\")\n",
    "\n",
    "valid_path = './data/valid.csv'\n",
    "valid_df = pd.read_csv(valid_path)\n",
    "print(\"验证集一共\"+str(valid_df.shape[0])+\"条\")\n",
    "\n",
    "test_path = './data/test.csv'\n",
    "test_df = pd.read_csv(test_path)\n",
    "print(\"测试集一共\"+str(test_df.shape[0])+\"条\")\n"
   ]
  },
  {
   "cell_type": "code",
   "execution_count": null,
   "metadata": {},
   "outputs": [
    {
     "name": "stdout",
     "output_type": "stream",
     "text": [
      "训练集标签数量\n",
      "[24688, 24796]\n",
      "验证集标签数量\n",
      "[5390, 5213]\n",
      "测试集标签数量\n",
      "[5268, 5335]\n"
     ]
    }
   ],
   "source": [
    "def leibie(data, label_num):\n",
    "    label_nums = [0 for k in range(label_num)]\n",
    "    for i in range(data.shape[0]):\n",
    "        label_nums[int(data.iloc[i][0])]+=1\n",
    "    print(label_nums)\n",
    "    \n",
    "print(\"训练集标签数量\")\n",
    "leibie(train_df, label_num)\n",
    "print(\"验证集标签数量\")\n",
    "leibie(valid_df, label_num)\n",
    "print(\"测试集标签数量\")\n",
    "leibie(test_df, label_num)"
   ]
  }
 ],
 "metadata": {
  "kernelspec": {
   "display_name": "torch1.4py3.7",
   "language": "python",
   "name": "python3"
  },
  "language_info": {
   "codemirror_mode": {
    "name": "ipython",
    "version": 3
   },
   "file_extension": ".py",
   "mimetype": "text/x-python",
   "name": "python",
   "nbconvert_exporter": "python",
   "pygments_lexer": "ipython3",
   "version": "3.7.11"
  },
  "orig_nbformat": 4
 },
 "nbformat": 4,
 "nbformat_minor": 2
}
