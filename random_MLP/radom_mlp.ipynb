{
 "cells": [
  {
   "cell_type": "code",
   "execution_count": 93,
   "metadata": {},
   "outputs": [],
   "source": [
    "import torch \n",
    "import numpy as np\n",
    "import torch.nn as nn\n",
    "import torch.nn.functional as F\n",
    "from torch.utils.data import DataLoader, Dataset, TensorDataset\n",
    "import pandas as pd\n",
    "from tqdm import *\n",
    "import matplotlib.pyplot as plt\n",
    "from sklearn.ensemble import RandomForestClassifier\n",
    "device = \"cuda:0\""
   ]
  },
  {
   "cell_type": "code",
   "execution_count": 94,
   "metadata": {},
   "outputs": [],
   "source": [
    "train_df = pd.read_csv('../data/train.csv')\n",
    "valid_df = pd.read_csv('../data/valid.csv')\n",
    "test_df = pd.read_csv('../data/test.csv')\n",
    "\n",
    "train_data = torch.tensor(train_df.to_numpy())\n",
    "valid_data = torch.tensor(valid_df.to_numpy())\n",
    "test_data = torch.tensor(test_df.to_numpy())\n",
    "\n",
    "'''获取标签'''\n",
    "train_y = train_data[:,0]\n",
    "valid_y = valid_data[:,0]\n",
    "test_y = test_data[:,0]\n",
    "\n",
    "'''获取特征'''\n",
    "train_x = train_data[:, 1:]\n",
    "valid_x = valid_data[:, 1:]\n",
    "test_x = test_data[:, 1:]"
   ]
  },
  {
   "cell_type": "code",
   "execution_count": 95,
   "metadata": {},
   "outputs": [
    {
     "name": "stderr",
     "output_type": "stream",
     "text": [
      "100%|██████████| 40/40 [01:21<00:00,  2.03s/it]\n",
      "100%|██████████| 40/40 [01:20<00:00,  2.02s/it]\n",
      "100%|██████████| 40/40 [01:20<00:00,  2.02s/it]\n",
      "100%|██████████| 40/40 [01:21<00:00,  2.04s/it]\n",
      "100%|██████████| 40/40 [01:20<00:00,  2.01s/it]\n",
      "100%|██████████| 40/40 [01:20<00:00,  2.02s/it]\n",
      "100%|██████████| 40/40 [01:21<00:00,  2.03s/it]\n",
      "100%|██████████| 40/40 [01:20<00:00,  2.02s/it]\n",
      "100%|██████████| 40/40 [01:20<00:00,  2.00s/it]\n",
      "100%|██████████| 40/40 [01:21<00:00,  2.04s/it]\n"
     ]
    },
    {
     "name": "stdout",
     "output_type": "stream",
     "text": [
      "训练集合指标：\n",
      "\n"
     ]
    },
    {
     "name": "stderr",
     "output_type": "stream",
     "text": [
      "442it [00:01, 435.79it/s]\n"
     ]
    },
    {
     "name": "stdout",
     "output_type": "stream",
     "text": [
      "模型精度为：0.7582\n",
      "模型召回率为：0.7582\n",
      "模型精确率为：0.7594\n",
      "模型F1分数为：0.7579\n",
      "模型AUC值为：0.8357\n",
      "验证集合指标：\n",
      "\n"
     ]
    },
    {
     "name": "stderr",
     "output_type": "stream",
     "text": [
      "56it [00:00, 326.63it/s]\n"
     ]
    },
    {
     "name": "stdout",
     "output_type": "stream",
     "text": [
      "模型精度为：0.7498\n",
      "模型召回率为：0.7498\n",
      "模型精确率为：0.7509\n",
      "模型F1分数为：0.7498\n",
      "模型AUC值为：0.8279\n",
      "测试集合指标：\n",
      "\n"
     ]
    },
    {
     "name": "stderr",
     "output_type": "stream",
     "text": [
      "56it [00:00, 387.36it/s]"
     ]
    },
    {
     "name": "stdout",
     "output_type": "stream",
     "text": [
      "模型精度为：0.7522\n",
      "模型召回率为：0.7522\n",
      "模型精确率为：0.7535\n",
      "模型F1分数为：0.7518\n",
      "模型AUC值为：0.8292\n",
      "\n",
      "\n"
     ]
    },
    {
     "name": "stderr",
     "output_type": "stream",
     "text": [
      "\n"
     ]
    }
   ],
   "source": [
    "import torch\n",
    "import torch.nn as nn\n",
    "import torch.optim as optim\n",
    "import matplotlib.pyplot as plt\n",
    "from torch.utils.data import DataLoader, TensorDataset\n",
    "from sklearn.datasets import make_classification\n",
    "from sklearn.model_selection import train_test_split\n",
    "from sklearn.metrics import accuracy_score\n",
    "from tqdm import tqdm\n",
    "\n",
    "class RF_MLP(nn.Module):\n",
    "    def __init__(self, input_dim, hidden_dim, num_mlp):\n",
    "        super(RF_MLP, self).__init__()\n",
    "        self.num_mlp = num_mlp\n",
    "        self.mlp_list = nn.ModuleList()\n",
    "        for i in range(self.num_mlp):\n",
    "            self.mlp_list.append(nn.Sequential(\n",
    "                nn.Linear(input_dim, 2*hidden_dim),\n",
    "                nn.ReLU(),\n",
    "                nn.Dropout(0.5),\n",
    "                nn.Linear(2*hidden_dim,2*hidden_dim),\n",
    "                nn.ReLU(),\n",
    "                nn.Linear(2*hidden_dim, hidden_dim),\n",
    "                nn.ReLU(),\n",
    "                nn.Dropout(0.5),\n",
    "                nn.Linear(hidden_dim, 1),\n",
    "                nn.Sigmoid()\n",
    "            ))\n",
    "\n",
    "    def forward(self, x):\n",
    "        y_pred = torch.zeros((x.shape[0], 1)).to(x.device)\n",
    "        for i in range(self.num_mlp):\n",
    "            y_pred += self.mlp_list[i](x)\n",
    "        y_pred /= self.num_mlp\n",
    "        return y_pred\n",
    "    \n",
    "    def fit(self, train_loader, n_epochs, batch_size, lr):\n",
    "        # 训练多个 MLP 模型，并将模型的参数随机初始化\n",
    "        for i in range(self.num_mlp):\n",
    "            mlp = self.mlp_list[i]\n",
    "            mlp.apply(weights_init)\n",
    "            mlp.to(device)\n",
    "\n",
    "            # 定义优化器和损失函数\n",
    "            optimizer = optim.Adam(mlp.parameters(), lr=lr)\n",
    "            criterion = nn.BCELoss()\n",
    "\n",
    "            # 训练每个 MLP 模型\n",
    "            for epoch in tqdm(range(n_epochs)):\n",
    "                for idx, data in enumerate(train_loader):\n",
    "                    x, y = data\n",
    "                    x = x.to(device)\n",
    "                    y = y.to(device)\n",
    "\n",
    "                    # 计算损失，反向传播，更新参数\n",
    "                    optimizer.zero_grad()\n",
    "                    y_pred = mlp(x.float()).double()\n",
    "                    loss = criterion(y_pred, y.unsqueeze(1))\n",
    "                    loss.backward()\n",
    "                    optimizer.step()\n",
    "\n",
    "def weights_init(m):\n",
    "    if isinstance(m, nn.Linear):\n",
    "        nn.init.xavier_uniform_(m.weight)\n",
    "        nn.init.constant_(m.bias, 0.0)\n",
    "\n",
    "# 设置超参数\n",
    "input_dim = train_x.shape[1]  # 输入维度\n",
    "hidden_dim = 256  # 隐藏层维度\n",
    "num_mlp = 10  # 基模型数量\n",
    "n_epochs = 40  # 训练轮数\n",
    "batch_size = 128  # 批量大小\n",
    "lr = 1e-4  # 学习率\n",
    "\n",
    "# 创建 RF_MLP 模型对象\n",
    "rf_mlp = RF_MLP(input_dim=input_dim, hidden_dim=hidden_dim, num_mlp=num_mlp)\n",
    "\n",
    "# 将数据转换为 PyTorch 数据集对象\n",
    "train_data = TensorDataset(train_x, train_y)\n",
    "test_data = TensorDataset(test_x, test_y)\n",
    "valid_data = TensorDataset(valid_x, valid_y)\n",
    "\n",
    "# 将数据集转换为 PyTorch 数据加载器对象\n",
    "train_loader = DataLoader(train_data, shuffle=True, batch_size=batch_size, drop_last=False)\n",
    "test_loader = DataLoader(test_data, shuffle=False, batch_size=batch_size, drop_last=False)\n",
    "valid_loader = DataLoader(valid_data, shuffle=False, batch_size=batch_size, drop_last=False)\n",
    "\n",
    "# 使用GPU训练，如果没有GPU设备就使用CPU训练\n",
    "device = torch.device(\"cuda:0\" if torch.cuda.is_available() else \"cpu\")\n",
    "\n",
    "# 训练 RF_MLP 模型\n",
    "rf_mlp.fit(train_loader, n_epochs=n_epochs, batch_size=batch_size, lr=lr)\n",
    "\n",
    "\n",
    "from sklearn.metrics import balanced_accuracy_score, recall_score, precision_score, f1_score, roc_auc_score\n",
    "\n",
    "def eval(dataloader, model, device):\n",
    "    model.eval()\n",
    "    probs = torch.tensor([]).to(device)\n",
    "    true_labels = torch.tensor([]).to(device)\n",
    "    with torch.no_grad():\n",
    "        for idx, data in tqdm(enumerate(dataloader)):\n",
    "            x = data[0].to(device).float()\n",
    "            true_labels = torch.cat([true_labels, data[1].to(device)], dim=0)\n",
    "            prob = model(x).double().squeeze()\n",
    "            probs = torch.cat([probs, prob], dim=0)\n",
    "\n",
    "        # 对多标签问题进行二进制分类处理\n",
    "        predicted_labels = (probs > 0.5).long()\n",
    "\n",
    "        accuracy = balanced_accuracy_score(true_labels.cpu().numpy(), predicted_labels.cpu().numpy())\n",
    "        recall = recall_score(true_labels.cpu().numpy(), predicted_labels.cpu().numpy(), average='macro')\n",
    "        precision = precision_score(true_labels.cpu().numpy(), predicted_labels.cpu().numpy(), average='macro')\n",
    "        f1 = f1_score(true_labels.cpu().numpy(), predicted_labels.cpu().numpy(), average='macro')\n",
    "        auc = roc_auc_score(true_labels.cpu().numpy(), probs.squeeze().cpu().numpy(), average='macro')\n",
    "\n",
    "        print(\"模型精度为：{:.4f}\".format(accuracy))\n",
    "        print(\"模型召回率为：{:.4f}\".format(recall))\n",
    "        print(\"模型精确率为：{:.4f}\".format(precision))\n",
    "        print(\"模型F1分数为：{:.4f}\".format(f1))\n",
    "        print(\"模型AUC值为：{:.4f}\".format(auc))\n",
    "\n",
    "    model.train()\n",
    "\n",
    "    return predicted_labels\n",
    "\n",
    "print(\"训练集合指标：\\n\")\n",
    "a=eval(train_loader, rf_mlp, \"cuda:0\")\n",
    "print(\"验证集合指标：\\n\")\n",
    "b=eval(valid_loader, rf_mlp, \"cuda:0\")\n",
    "print(\"测试集合指标：\\n\")\n",
    "c=eval(test_loader, rf_mlp, \"cuda:0\")\n",
    "print('\\n')"
   ]
  }
 ],
 "metadata": {
  "kernelspec": {
   "display_name": "torch1.4py3.7",
   "language": "python",
   "name": "python3"
  },
  "language_info": {
   "codemirror_mode": {
    "name": "ipython",
    "version": 3
   },
   "file_extension": ".py",
   "mimetype": "text/x-python",
   "name": "python",
   "nbconvert_exporter": "python",
   "pygments_lexer": "ipython3",
   "version": "3.7.11"
  },
  "orig_nbformat": 4
 },
 "nbformat": 4,
 "nbformat_minor": 2
}
