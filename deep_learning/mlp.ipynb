{
 "cells": [
  {
   "cell_type": "code",
   "execution_count": 10,
   "metadata": {},
   "outputs": [],
   "source": [
    "import torch \n",
    "import numpy as np\n",
    "import torch.nn as nn\n",
    "import torch.nn.functional as F\n",
    "from torch.utils.data import DataLoader, Dataset, TensorDataset\n",
    "import pandas as pd\n",
    "from tqdm import *\n",
    "import matplotlib.pyplot as plt\n",
    "device = \"cuda:0\""
   ]
  },
  {
   "cell_type": "code",
   "execution_count": 2,
   "metadata": {},
   "outputs": [],
   "source": [
    "train_df = pd.read_csv('../data/train.csv')\n",
    "valid_df = pd.read_csv('../data/valid.csv')\n",
    "test_df = pd.read_csv('../data/test.csv')\n",
    "\n",
    "train_data = torch.tensor(train_df.to_numpy())\n",
    "valid_data = torch.tensor(valid_df.to_numpy())\n",
    "test_data = torch.tensor(test_df.to_numpy())\n",
    "\n",
    "'''获取标签'''\n",
    "train_y = train_data[:,0]\n",
    "valid_y = valid_data[:,0]\n",
    "test_y = test_data[:,0]\n",
    "\n",
    "'''获取特征'''\n",
    "train_x = train_data[:, 1:]\n",
    "valid_x = valid_data[:, 1:]\n",
    "test_x = test_data[:, 1:]"
   ]
  },
  {
   "cell_type": "code",
   "execution_count": 44,
   "metadata": {},
   "outputs": [
    {
     "ename": "ValueError",
     "evalue": "crop_size is too large for the input matrix",
     "output_type": "error",
     "traceback": [
      "\u001b[0;31m---------------------------------------------------------------------------\u001b[0m",
      "\u001b[0;31mValueError\u001b[0m                                Traceback (most recent call last)",
      "\u001b[0;32m/tmp/ipykernel_12443/989843104.py\u001b[0m in \u001b[0;36m<module>\u001b[0;34m\u001b[0m\n\u001b[1;32m      3\u001b[0m \u001b[0mX\u001b[0m \u001b[0;34m=\u001b[0m \u001b[0mnp\u001b[0m\u001b[0;34m.\u001b[0m\u001b[0mrandom\u001b[0m\u001b[0;34m.\u001b[0m\u001b[0mrand\u001b[0m\u001b[0;34m(\u001b[0m\u001b[0;36m20\u001b[0m\u001b[0;34m,\u001b[0m \u001b[0;36m20\u001b[0m\u001b[0;34m)\u001b[0m\u001b[0;34m\u001b[0m\u001b[0;34m\u001b[0m\u001b[0m\n\u001b[1;32m      4\u001b[0m \u001b[0mcrop_size\u001b[0m \u001b[0;34m=\u001b[0m \u001b[0;34m[\u001b[0m\u001b[0;36m5\u001b[0m\u001b[0;34m,\u001b[0m \u001b[0;36m3\u001b[0m\u001b[0;34m]\u001b[0m\u001b[0;34m\u001b[0m\u001b[0;34m\u001b[0m\u001b[0m\n\u001b[0;32m----> 5\u001b[0;31m \u001b[0mX_cropped\u001b[0m \u001b[0;34m=\u001b[0m \u001b[0mrandom_crop\u001b[0m\u001b[0;34m(\u001b[0m\u001b[0mX\u001b[0m\u001b[0;34m,\u001b[0m \u001b[0mcrop_size\u001b[0m\u001b[0;34m=\u001b[0m\u001b[0mcrop_size\u001b[0m\u001b[0;34m)\u001b[0m\u001b[0;34m\u001b[0m\u001b[0;34m\u001b[0m\u001b[0m\n\u001b[0m",
      "\u001b[0;32m/tmp/ipykernel_12443/1150665522.py\u001b[0m in \u001b[0;36mrandom_crop\u001b[0;34m(X, crop_size)\u001b[0m\n\u001b[1;32m     44\u001b[0m \u001b[0;34m\u001b[0m\u001b[0m\n\u001b[1;32m     45\u001b[0m     \u001b[0;32mif\u001b[0m \u001b[0mdy\u001b[0m \u001b[0;34m>\u001b[0m \u001b[0mheight\u001b[0m \u001b[0;32mor\u001b[0m \u001b[0mdx\u001b[0m \u001b[0;34m>\u001b[0m \u001b[0mwidth\u001b[0m\u001b[0;34m:\u001b[0m\u001b[0;34m\u001b[0m\u001b[0;34m\u001b[0m\u001b[0m\n\u001b[0;32m---> 46\u001b[0;31m         \u001b[0;32mraise\u001b[0m \u001b[0mValueError\u001b[0m\u001b[0;34m(\u001b[0m\u001b[0;34m\"crop_size is too large for the input matrix\"\u001b[0m\u001b[0;34m)\u001b[0m\u001b[0;34m\u001b[0m\u001b[0;34m\u001b[0m\u001b[0m\n\u001b[0m\u001b[1;32m     47\u001b[0m \u001b[0;34m\u001b[0m\u001b[0m\n\u001b[1;32m     48\u001b[0m     \u001b[0mx\u001b[0m \u001b[0;34m=\u001b[0m \u001b[0mnp\u001b[0m\u001b[0;34m.\u001b[0m\u001b[0mrandom\u001b[0m\u001b[0;34m.\u001b[0m\u001b[0mrandint\u001b[0m\u001b[0;34m(\u001b[0m\u001b[0;36m0\u001b[0m\u001b[0;34m,\u001b[0m \u001b[0mwidth\u001b[0m\u001b[0;34m)\u001b[0m\u001b[0;34m\u001b[0m\u001b[0;34m\u001b[0m\u001b[0m\n",
      "\u001b[0;31mValueError\u001b[0m: crop_size is too large for the input matrix"
     ]
    }
   ],
   "source": [
    "import numpy as np\n",
    "\n",
    "X = np.random.rand(20, 20)\n",
    "crop_size = [5, 3]\n",
    "X_cropped = random_crop(X, crop_size=crop_size)"
   ]
  },
  {
   "cell_type": "code",
   "execution_count": 58,
   "metadata": {},
   "outputs": [
    {
     "name": "stdout",
     "output_type": "stream",
     "text": [
      "(56553, 21)\n",
      "Combined data shape: (113106, 21) (113106,)\n"
     ]
    }
   ],
   "source": [
    "import numpy as np\n",
    "\n",
    "# 随机选择整列特征进行缩放\n",
    "def feature_scaling(X):\n",
    "    num_samples = X.shape[0]\n",
    "    scaling_factor = np.random.uniform(0.5, 2.0)\n",
    "    scaling_factors = np.tile(scaling_factor, num_samples)\n",
    "\n",
    "    return X * scaling_factors\n",
    "\n",
    "def data_augmentation(X, y, num_samples=1000):\n",
    "    X_augmented = np.empty((0, X.shape[1]), X.dtype)\n",
    "    y_augmented = np.empty((0,), y.dtype)\n",
    "    \n",
    "    for i in range(num_samples):\n",
    "        random_idx = np.random.choice(range(len(X)))\n",
    "        X_sample = X[random_idx]\n",
    "        y_sample = y[random_idx]\n",
    "        \n",
    "        # 增加高斯噪声和随机缩放\n",
    "        X_sample = add_gaussian_noise(X_sample)\n",
    "        X_sample = feature_scaling(X_sample)\n",
    "        \n",
    "        # 添加增强后的样本\n",
    "        X_augmented = np.vstack([X_augmented, X_sample])\n",
    "        y_augmented = np.hstack([y_augmented, y_sample])\n",
    "        \n",
    "    return X_augmented, y_augmented\n",
    "\n",
    "# 增加高斯噪声\n",
    "def add_gaussian_noise(X, noise_level=0.1):\n",
    "    return X + np.random.normal(scale=noise_level, size=X.shape)\n",
    "\n",
    "# 加载数据\n",
    "X = train_df.iloc[:,1:].values # 提取特征\n",
    "y = train_df.iloc[:, 0].values # 提取标签\n",
    "print(X.shape)\n",
    "\n",
    "# 使用上面定义的函数进行数据增强\n",
    "X_augmented, y_augmented = data_augmentation(X, y, num_samples=56553)\n",
    "\n",
    "# 将增强后的数据添加到原始数据中\n",
    "X_combined = np.vstack([X, X_augmented])\n",
    "y_combined = np.hstack([y, y_augmented])\n",
    "\n",
    "print(\"Combined data shape:\", X_combined.shape, y_combined.shape)"
   ]
  },
  {
   "cell_type": "code",
   "execution_count": 59,
   "metadata": {},
   "outputs": [],
   "source": [
    "class MLP(nn.Module):\n",
    "    def __init__(self,input_dim, hidden_dim):\n",
    "        super().__init__()\n",
    "        self.network = nn.Sequential(\n",
    "            nn.Linear(input_dim, 2*hidden_dim),\n",
    "            nn.ReLU(),\n",
    "            nn.Linear(2*hidden_dim, 2*hidden_dim),\n",
    "            nn.ReLU(),\n",
    "            nn.Linear(2*hidden_dim, 2*hidden_dim),\n",
    "            nn.ReLU(),\n",
    "            nn.Linear(2*hidden_dim, 2*hidden_dim),\n",
    "            nn.ReLU(),\n",
    "            nn.Linear(2*hidden_dim, hidden_dim),\n",
    "            nn.ReLU(),\n",
    "            nn.Linear(hidden_dim, 2), #几分类问题\n",
    "        )\n",
    "    \n",
    "    def forward(self, x):\n",
    "        x = self.network(x)\n",
    "        x = F.softmax(x, dim=1)\n",
    "        return x"
   ]
  },
  {
   "cell_type": "code",
   "execution_count": 60,
   "metadata": {},
   "outputs": [],
   "source": [
    "def train(dataloader, model, optimizer, loss_func, epochs, device):\n",
    "    model = model.to(device)\n",
    "    model.train()\n",
    "\n",
    "    losses = []\n",
    "    for epoch in tqdm(range(epochs)):\n",
    "        loss = 0 \n",
    "        for idx, data in enumerate(dataloader):\n",
    "            x = data[0].to(device).float()\n",
    "            y = data[1].to(device).long()\n",
    "\n",
    "            optimizer.zero_grad()\n",
    "            probs = model(x).float()\n",
    "            l = loss_func(probs, y)\n",
    "            l.backward()\n",
    "            loss+=l.item()\n",
    "            optimizer.step()\n",
    "        losses.append(loss)\n",
    "        \n",
    "    plt.figure()\n",
    "    plt.plot(losses)\n",
    "\n",
    "    return losses[-1]"
   ]
  },
  {
   "cell_type": "code",
   "execution_count": 61,
   "metadata": {},
   "outputs": [],
   "source": [
    "'''指标计算'''\n",
    "from sklearn.metrics import balanced_accuracy_score, recall_score, precision_score, f1_score, roc_auc_score\n",
    "\n",
    "def eval(dataloader, model, device):\n",
    "    model.eval()\n",
    "    probs = torch.tensor([]).to(device)\n",
    "    true_labels = torch.tensor([]).to(device)\n",
    "    with torch.no_grad():\n",
    "        for idx, data in tqdm(enumerate(dataloader)):\n",
    "            x = data[0].to(device).float()\n",
    "            true_labels = torch.cat([true_labels, data[1].to(device)], dim=0)\n",
    "            prob = model(x).squeeze()\n",
    "            probs = torch.cat([probs, prob], dim=0)\n",
    "\n",
    "        # 对多标签问题进行二进制分类处理\n",
    "        predicted_labels = torch.argmax(probs, dim=1)\n",
    "\n",
    "        accuracy = balanced_accuracy_score(true_labels.cpu().numpy(), predicted_labels.cpu().numpy())\n",
    "        recall = recall_score(true_labels.cpu().numpy(), predicted_labels.cpu().numpy(), average='macro')\n",
    "        precision = precision_score(true_labels.cpu().numpy(), predicted_labels.cpu().numpy(), average='macro')\n",
    "        f1 = f1_score(true_labels.cpu().numpy(), predicted_labels.cpu().numpy(), average='macro')\n",
    "        auc = roc_auc_score(true_labels.cpu().numpy(), predicted_labels.cpu().numpy(), average='macro')\n",
    "\n",
    "        print(\"模型精度为：{:.4f}\".format(accuracy))\n",
    "        print(\"模型召回率为：{:.4f}\".format(recall))\n",
    "        print(\"模型精确率为：{:.4f}\".format(precision))\n",
    "        print(\"模型F1分数为：{:.4f}\".format(f1))\n",
    "        print(\"模型AUC值为：{:.4f}\".format(auc))\n",
    "\n",
    "    model.train()\n",
    "\n",
    "    return predicted_labels"
   ]
  },
  {
   "cell_type": "code",
   "execution_count": 72,
   "metadata": {},
   "outputs": [],
   "source": [
    "'''准备数据集'''\n",
    "train_dataset = TensorDataset(torch.tensor(X_combined), torch.tensor(y_combined))\n",
    "train_dataloader = DataLoader(train_dataset, batch_size=128, shuffle=True, drop_last=False)\n",
    "\n",
    "valid_dataset = TensorDataset(valid_x, valid_y)\n",
    "valid_dataloader = DataLoader(valid_dataset, batch_size=128, shuffle=True, drop_last=False)\n",
    "\n",
    "test_dataset = TensorDataset(test_x, test_y)\n",
    "test_dataloader = DataLoader(test_dataset, batch_size=128, shuffle=True, drop_last=False)"
   ]
  },
  {
   "cell_type": "code",
   "execution_count": 73,
   "metadata": {},
   "outputs": [],
   "source": [
    "loss_fuc = nn.CrossEntropyLoss()\n",
    "model = MLP(train_x.shape[1], 256)\n",
    "optimizer = torch.optim.Adam(model.parameters(), lr=1e-4)"
   ]
  },
  {
   "cell_type": "code",
   "execution_count": 74,
   "metadata": {},
   "outputs": [
    {
     "name": "stderr",
     "output_type": "stream",
     "text": [
      "100%|██████████| 10/10 [00:49<00:00,  4.93s/it]\n"
     ]
    },
    {
     "data": {
      "text/plain": [
       "485.082526832819"
      ]
     },
     "execution_count": 74,
     "metadata": {},
     "output_type": "execute_result"
    },
    {
     "data": {
      "image/png": "[encoded data removed]",
      "text/plain": [
       "<Figure size 432x288 with 1 Axes>"
      ]
     },
     "metadata": {
      "needs_background": "light"
     },
     "output_type": "display_data"
    }
   ],
   "source": [
    "train(train_dataloader, model, optimizer, loss_fuc, 10, device)"
   ]
  },
  {
   "cell_type": "code",
   "execution_count": 75,
   "metadata": {},
   "outputs": [
    {
     "name": "stdout",
     "output_type": "stream",
     "text": [
      "训练集合指标：\n"
     ]
    },
    {
     "name": "stderr",
     "output_type": "stream",
     "text": [
      "884it [00:00, 922.00it/s] \n"
     ]
    },
    {
     "name": "stdout",
     "output_type": "stream",
     "text": [
      "模型精度为：0.7475\n",
      "模型召回率为：0.7475\n",
      "模型精确率为：0.7482\n",
      "模型F1分数为：0.7473\n",
      "模型AUC值为：0.7475\n",
      "验证集合指标：\n"
     ]
    },
    {
     "name": "stderr",
     "output_type": "stream",
     "text": [
      "56it [00:00, 722.91it/s]\n"
     ]
    },
    {
     "name": "stdout",
     "output_type": "stream",
     "text": [
      "模型精度为：0.7331\n",
      "模型召回率为：0.7331\n",
      "模型精确率为：0.7342\n",
      "模型F1分数为：0.7330\n",
      "模型AUC值为：0.7331\n",
      "测试集合指标：\n"
     ]
    },
    {
     "name": "stderr",
     "output_type": "stream",
     "text": [
      "56it [00:00, 770.99it/s]"
     ]
    },
    {
     "name": "stdout",
     "output_type": "stream",
     "text": [
      "模型精度为：0.7393\n",
      "模型召回率为：0.7393\n",
      "模型精确率为：0.7405\n",
      "模型F1分数为：0.7390\n",
      "模型AUC值为：0.7393\n"
     ]
    },
    {
     "name": "stderr",
     "output_type": "stream",
     "text": [
      "\n"
     ]
    }
   ],
   "source": [
    "print(\"训练集合指标：\")\n",
    "a=eval(train_dataloader, model, \"cuda:0\")\n",
    "print(\"验证集合指标：\")\n",
    "b=eval(valid_dataloader, model, \"cuda:0\")\n",
    "print(\"测试集合指标：\")\n",
    "c=eval(test_dataloader, model, \"cuda:0\")"
   ]
  }
 ],
 "metadata": {
  "kernelspec": {
   "display_name": "torch1.4py3.7",
   "language": "python",
   "name": "python3"
  },
  "language_info": {
   "codemirror_mode": {
    "name": "ipython",
    "version": 3
   },
   "file_extension": ".py",
   "mimetype": "text/x-python",
   "name": "python",
   "nbconvert_exporter": "python",
   "pygments_lexer": "ipython3",
   "version": "3.7.11"
  },
  "orig_nbformat": 4
 },
 "nbformat": 4,
 "nbformat_minor": 2
}
