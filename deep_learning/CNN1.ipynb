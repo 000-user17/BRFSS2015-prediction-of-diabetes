{
 "cells": [
  {
   "cell_type": "code",
   "execution_count": 13,
   "metadata": {},
   "outputs": [],
   "source": [
    "import torch\n",
    "import torch.nn as nn\n",
    "import torch.nn.functional as F\n",
    "from torch.utils.data import DataLoader, Dataset, TensorDataset\n",
    "import pandas as pd\n",
    "from tqdm import *\n",
    "import matplotlib.pyplot as plt\n",
    "device = \"cuda:0\""
   ]
  },
  {
   "cell_type": "code",
   "execution_count": 14,
   "metadata": {},
   "outputs": [],
   "source": [
    "train_df = pd.read_csv('../data/train.csv')\n",
    "valid_df = pd.read_csv('../data/valid.csv')\n",
    "test_df = pd.read_csv('../data/test.csv')\n",
    "\n",
    "train_data = torch.tensor(train_df.to_numpy())\n",
    "valid_data = torch.tensor(valid_df.to_numpy())\n",
    "test_data = torch.tensor(test_df.to_numpy())\n",
    "\n",
    "'''获取标签'''\n",
    "train_y = train_data[:,0]\n",
    "valid_y = valid_data[:,0]\n",
    "test_y = test_data[:,0]\n",
    "\n",
    "'''获取特征'''\n",
    "train_x = train_data[:, 1:]\n",
    "valid_x = valid_data[:, 1:]\n",
    "test_x = test_data[:, 1:]"
   ]
  },
  {
   "cell_type": "code",
   "execution_count": 15,
   "metadata": {},
   "outputs": [],
   "source": [
    "class CNN(nn.Module):\n",
    "    def __init__(self, input_dim=21):\n",
    "        super(CNN, self).__init__()\n",
    "        self.input_dim = input_dim\n",
    "        self.kernel_size_conv = 3\n",
    "        self.stride_conv = 1\n",
    "        self.kernel_size_pool = 2\n",
    "        self.stride_pool = 2\n",
    "        out_conv1 = (input_dim - self.kernel_size_conv) // self.stride_conv + 1\n",
    "        out_pool1 = (out_conv1 - self.kernel_size_pool) // self.stride_pool + 1\n",
    "        self.conv1 = nn.Conv1d(in_channels=1, out_channels=128, kernel_size=self.kernel_size_conv)\n",
    "        self.pool = nn.MaxPool1d(kernel_size=self.kernel_size_pool, stride=self.stride_pool)\n",
    "        self.fc1 = nn.Linear(in_features=128*out_pool1, out_features=256)\n",
    "        self.fc2 = nn.Linear(in_features=256, out_features=2)\n",
    "\n",
    "    def forward(self, x):\n",
    "        x = x.view(-1, 1, self.input_dim)\n",
    "        x = self.pool(nn.functional.relu(self.conv1(x)))\n",
    "        x = torch.flatten(x, 1)\n",
    "        x = nn.functional.relu(self.fc1(x))\n",
    "        x = self.fc2(x)\n",
    "        return x"
   ]
  },
  {
   "cell_type": "code",
   "execution_count": 16,
   "metadata": {},
   "outputs": [],
   "source": [
    "def train(dataloader, model, optimizer, loss_func, epochs, device):\n",
    "    model = model.to(device)\n",
    "    model.train()\n",
    "\n",
    "    losses = []\n",
    "    for epoch in tqdm(range(epochs)):\n",
    "        loss = 0 \n",
    "        for idx, data in enumerate(dataloader):\n",
    "            x = data[0].to(device).float()\n",
    "            y = data[1].to(device).long()\n",
    "            #print(x.shape)\n",
    "\n",
    "            optimizer.zero_grad()\n",
    "            probs = model(x).float()\n",
    "            #print(probs.shape)\n",
    "            l = loss_func(probs, y)\n",
    "            l.backward()\n",
    "            loss+=l.item()\n",
    "            optimizer.step()\n",
    "        losses.append(loss)\n",
    "        \n",
    "    plt.figure()\n",
    "    plt.plot(losses)\n",
    "\n",
    "    return losses[-1]"
   ]
  },
  {
   "cell_type": "code",
   "execution_count": 17,
   "metadata": {},
   "outputs": [],
   "source": [
    "'''指标计算'''\n",
    "from sklearn.metrics import balanced_accuracy_score, recall_score, precision_score, f1_score, roc_auc_score\n",
    "\n",
    "def eval(dataloader, model, device):\n",
    "    model.eval()\n",
    "    probs = torch.tensor([]).to(device)\n",
    "    true_labels = torch.tensor([]).to(device)\n",
    "    with torch.no_grad():\n",
    "        for idx, data in tqdm(enumerate(dataloader)):\n",
    "            x = data[0].to(device).float()\n",
    "            true_labels = torch.cat([true_labels, data[1].to(device)], dim=0)\n",
    "            prob = model(x).squeeze()\n",
    "            \n",
    "            probs = torch.cat([probs, prob], dim=0)\n",
    "\n",
    "        # 对多标签问题进行二进制分类处理\n",
    "        predicted_labels = torch.argmax(probs, dim=1)\n",
    "\n",
    "        accuracy = balanced_accuracy_score(true_labels.cpu().numpy(), predicted_labels.cpu().numpy())\n",
    "        recall = recall_score(true_labels.cpu().numpy(), predicted_labels.cpu().numpy(), average='macro')\n",
    "        precision = precision_score(true_labels.cpu().numpy(), predicted_labels.cpu().numpy(), average='macro')\n",
    "        f1 = f1_score(true_labels.cpu().numpy(), predicted_labels.cpu().numpy(), average='macro')\n",
    "        auc = roc_auc_score(true_labels.cpu().numpy(), predicted_labels.cpu().numpy(), average='macro')\n",
    "\n",
    "        print(\"模型精度为：{:.4f}\".format(accuracy))\n",
    "        print(\"模型召回率为：{:.4f}\".format(recall))\n",
    "        print(\"模型精确率为：{:.4f}\".format(precision))\n",
    "        print(\"模型F1分数为：{:.4f}\".format(f1))\n",
    "        print(\"模型AUC值为：{:.4f}\".format(auc))\n",
    "\n",
    "    model.train()\n",
    "\n",
    "    return predicted_labels"
   ]
  },
  {
   "cell_type": "code",
   "execution_count": 18,
   "metadata": {},
   "outputs": [],
   "source": [
    "'''准备数据集'''\n",
    "train_dataset = TensorDataset(train_x, train_y)\n",
    "train_dataloader = DataLoader(train_dataset, batch_size=128, shuffle=True, drop_last=False)\n",
    "\n",
    "valid_dataset = TensorDataset(valid_x, valid_y)\n",
    "valid_dataloader = DataLoader(valid_dataset, batch_size=128, shuffle=True, drop_last=False)\n",
    "\n",
    "test_dataset = TensorDataset(test_x, test_y)\n",
    "test_dataloader = DataLoader(test_dataset, batch_size=128, shuffle=True, drop_last=False)"
   ]
  },
  {
   "cell_type": "code",
   "execution_count": 19,
   "metadata": {},
   "outputs": [],
   "source": [
    "loss_fuc = nn.CrossEntropyLoss()\n",
    "model = CNN(len(train_df.columns)-1)\n",
    "optimizer = torch.optim.Adam(model.parameters(), lr=1e-4)"
   ]
  },
  {
   "cell_type": "code",
   "execution_count": 20,
   "metadata": {},
   "outputs": [
    {
     "name": "stderr",
     "output_type": "stream",
     "text": [
      "100%|██████████| 30/30 [00:52<00:00,  1.75s/it]\n"
     ]
    },
    {
     "data": {
      "text/plain": [
       "237.79918751120567"
      ]
     },
     "execution_count": 20,
     "metadata": {},
     "output_type": "execute_result"
    },
    {
     "data": {
      "image/png": "[encoded data removed]",
      "text/plain": [
       "<Figure size 432x288 with 1 Axes>"
      ]
     },
     "metadata": {
      "needs_background": "light"
     },
     "output_type": "display_data"
    }
   ],
   "source": [
    "train(train_dataloader, model, optimizer, loss_fuc, 30, device)"
   ]
  },
  {
   "cell_type": "code",
   "execution_count": 21,
   "metadata": {},
   "outputs": [
    {
     "name": "stdout",
     "output_type": "stream",
     "text": [
      "训练集合指标：\n"
     ]
    },
    {
     "name": "stderr",
     "output_type": "stream",
     "text": [
      "442it [00:00, 923.61it/s]\n"
     ]
    },
    {
     "name": "stdout",
     "output_type": "stream",
     "text": [
      "模型精度为：0.7271\n",
      "模型召回率为：0.7271\n",
      "模型精确率为：0.7296\n",
      "模型F1分数为：0.7281\n",
      "模型AUC值为：0.7271\n",
      "验证集合指标：\n"
     ]
    },
    {
     "name": "stderr",
     "output_type": "stream",
     "text": [
      "56it [00:00, 631.65it/s]\n"
     ]
    },
    {
     "name": "stdout",
     "output_type": "stream",
     "text": [
      "模型精度为：0.7244\n",
      "模型召回率为：0.7244\n",
      "模型精确率为：0.7269\n",
      "模型F1分数为：0.7253\n",
      "模型AUC值为：0.7244\n",
      "测试集合指标：\n"
     ]
    },
    {
     "name": "stderr",
     "output_type": "stream",
     "text": [
      "56it [00:00, 880.68it/s]\n"
     ]
    },
    {
     "name": "stdout",
     "output_type": "stream",
     "text": [
      "模型精度为：0.7213\n",
      "模型召回率为：0.7213\n",
      "模型精确率为：0.7247\n",
      "模型F1分数为：0.7226\n",
      "模型AUC值为：0.7213\n"
     ]
    }
   ],
   "source": [
    "print(\"训练集合指标：\")\n",
    "a=eval(train_dataloader, model, \"cuda:0\")\n",
    "print(\"验证集合指标：\")\n",
    "b=eval(valid_dataloader, model, \"cuda:0\")\n",
    "print(\"测试集合指标：\")\n",
    "c=eval(test_dataloader, model, \"cuda:0\")"
   ]
  }
 ],
 "metadata": {
  "kernelspec": {
   "display_name": "torch1.4py3.7",
   "language": "python",
   "name": "python3"
  },
  "language_info": {
   "codemirror_mode": {
    "name": "ipython",
    "version": 3
   },
   "file_extension": ".py",
   "mimetype": "text/x-python",
   "name": "python",
   "nbconvert_exporter": "python",
   "pygments_lexer": "ipython3",
   "version": "3.7.11"
  },
  "orig_nbformat": 4
 },
 "nbformat": 4,
 "nbformat_minor": 2
}
